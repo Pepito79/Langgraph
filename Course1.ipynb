{
 "cells": [
  {
   "cell_type": "code",
   "execution_count": 1,
   "id": "a5b940f6",
   "metadata": {},
   "outputs": [],
   "source": [
    "from langgraph.graph import StateGraph , START ,END\n",
    "from typing import TypedDict ,List\n",
    "import math"
   ]
  },
  {
   "cell_type": "code",
   "execution_count": 2,
   "id": "b4ff8f40",
   "metadata": {},
   "outputs": [],
   "source": [
    "class AgentState(TypedDict):\n",
    "    name : str \n",
    "    values: List[int]\n",
    "    result: str \n"
   ]
  },
  {
   "cell_type": "code",
   "execution_count": 3,
   "id": "5365df61",
   "metadata": {},
   "outputs": [],
   "source": [
    "def process_values(state: AgentState) -> AgentState:\n",
    "    state[\"result\"] = f\"Hi {state[\"name\"]} your account is worth : {sum(state[\"values\"]) }$\"\n",
    "    return state"
   ]
  },
  {
   "cell_type": "code",
   "execution_count": 4,
   "id": "70d9afee",
   "metadata": {},
   "outputs": [],
   "source": [
    "builder = StateGraph(AgentState)\n",
    "builder.add_node(\"process_values\",process_values)\n",
    "\n",
    "builder.set_entry_point(\"process_values\")\n",
    "builder.set_finish_point(\"process_values\")\n",
    "graph = builder.compile()\n",
    "\n",
    "\n"
   ]
  },
  {
   "cell_type": "code",
   "execution_count": 5,
   "id": "66a2d608",
   "metadata": {},
   "outputs": [
    {
     "data": {
      "image/png": "[encoded data removed]",
      "text/plain": [
       "<IPython.core.display.Image object>"
      ]
     },
     "metadata": {},
     "output_type": "display_data"
    }
   ],
   "source": [
    "from IPython.display import display ,Image\n",
    "\n",
    "display(Image(graph.get_graph().draw_mermaid_png()))"
   ]
  },
  {
   "cell_type": "code",
   "execution_count": 6,
   "id": "11d21488",
   "metadata": {},
   "outputs": [
    {
     "name": "stdout",
     "output_type": "stream",
     "text": [
      "{'name': 'Saad', 'values': [11, 1231, 4, 13], 'result': 'Hi Saad your account is worth : 1259$'}\n"
     ]
    }
   ],
   "source": [
    "answers = graph.invoke({\"name\": \"Saad\", \"values\": [11,1231,4,13]})\n",
    "print(answers)"
   ]
  },
  {
   "cell_type": "markdown",
   "id": "0eb79350",
   "metadata": {},
   "source": [
    "Exercice 2 :"
   ]
  },
  {
   "cell_type": "code",
   "execution_count": 7,
   "id": "c00c0d66",
   "metadata": {},
   "outputs": [
    {
     "name": "stdout",
     "output_type": "stream",
     "text": [
      "Hey Saad your result is : 15\n"
     ]
    }
   ],
   "source": [
    "class AgentStateEx1(TypedDict):\n",
    "    name : str\n",
    "    operation: str\n",
    "    values : List[int]\n",
    "    result:str\n",
    "    \n",
    "def calc(state: AgentStateEx1) -> AgentStateEx1:\n",
    "    if state[\"operation\"] == \"+\":\n",
    "        state['result'] = f\"Hey {state[\"name\"]} your result is : {sum(state[\"values\"])}\"\n",
    "    elif state[\"operation\"] == \"*\":\n",
    "        state['result'] = f\"Hey {state[\"name\"]} your result is : {math.prod(state[\"values\"])}\"\n",
    "    return state\n",
    "\n",
    "builder2 = StateGraph(AgentStateEx1)\n",
    "builder2.add_node(\"calc_node\", calc)\n",
    "\n",
    "builder2.set_entry_point(\"calc_node\")\n",
    "builder2.set_finish_point(\"calc_node\")\n",
    "\n",
    "graph2 = builder2.compile()\n",
    "\n",
    "answer2 = graph2.invoke({\"name\": \"Saad\", \"values\": [1,2,3,4,5] , \"operation\":\"+\"})\n",
    "print(answer2[\"result\"])\n",
    "    "
   ]
  },
  {
   "cell_type": "markdown",
   "id": "2c8097ad",
   "metadata": {},
   "source": [
    "Exercice 2: \n",
    "\n",
    "Create a graph that takes a name , skills and an age of a personn and then return a short greeting"
   ]
  },
  {
   "cell_type": "code",
   "execution_count": 8,
   "id": "dc14e06c",
   "metadata": {},
   "outputs": [
    {
     "name": "stdout",
     "output_type": "stream",
     "text": [
      "Saad , welcome to our system !  You are 20 years old !  You have skills in Python, NextJs, Java \n"
     ]
    }
   ],
   "source": [
    "class AgentState2(TypedDict):\n",
    "    name: str\n",
    "    skills: List[str]\n",
    "    age: int\n",
    "    result: str\n",
    "    \n",
    "def greeting(state: AgentState2) ->AgentState2:\n",
    "    state[\"result\"]=  f\"{state[\"name\"]} , welcome to our system ! \"\n",
    "    return state\n",
    "\n",
    "def age(state: AgentState2) ->AgentState2:\n",
    "    state[\"result\"]= state[\"result\"] +  f\" You are {state[\"age\"]} years old ! \"\n",
    "    return state\n",
    "\n",
    "def skills(state: AgentState2) ->AgentState2:\n",
    "    state[\"result\"]= state[\"result\"] +  f\" You have skills in {\", \".join(state[\"skills\"])} \"\n",
    "    return state\n",
    "\n",
    "builder3 = StateGraph(AgentState2)\n",
    "\n",
    "builder3.add_node(\"greeting_node\", greeting)\n",
    "builder3.add_node(\"age_node\", age)\n",
    "builder3.add_node(\"skills_node\", skills)\n",
    "\n",
    "builder3.set_entry_point(\"greeting_node\")\n",
    "builder3.add_edge(\"greeting_node\", \"age_node\")\n",
    "builder3.add_edge(\"age_node\",'skills_node')\n",
    "\n",
    "builder3.set_finish_point(\"skills_node\")\n",
    "\n",
    "app = builder3.compile()\n",
    "\n",
    "resultat = app.invoke({\"name\":\"Saad\", \"age\":\"20\" , \"skills\":[\"Python\",\"NextJs\", \"Java\"]})\n",
    "print(resultat[\"result\"])\n",
    "\n",
    "    "
   ]
  },
  {
   "cell_type": "code",
   "execution_count": 9,
   "id": "477cc7d4",
   "metadata": {},
   "outputs": [
    {
     "data": {
      "image/png": "[encoded data removed]",
      "text/plain": [
       "<IPython.core.display.Image object>"
      ]
     },
     "metadata": {},
     "output_type": "display_data"
    }
   ],
   "source": [
    "display(Image(app.get_graph().draw_mermaid_png()))"
   ]
  },
  {
   "cell_type": "markdown",
   "id": "28d0eabb",
   "metadata": {},
   "source": [
    "Exercice: Create a graph with 2 routers to make some math operations in numbers"
   ]
  },
  {
   "cell_type": "code",
   "execution_count": 10,
   "id": "1974abcb",
   "metadata": {},
   "outputs": [
    {
     "data": {
      "image/png": "[encoded data removed]",
      "text/plain": [
       "<IPython.core.display.Image object>"
      ]
     },
     "metadata": {},
     "output_type": "display_data"
    }
   ],
   "source": [
    "class AgentStateCond(TypedDict):\n",
    "    number1: int\n",
    "    number2: int \n",
    "    number3: int\n",
    "    number4: int\n",
    "    op1: str\n",
    "    op2: str\n",
    "    result: int\n",
    "\n",
    "\n",
    "def add1 (state: AgentStateCond) -> AgentStateCond:\n",
    "    state[\"result\"] = state[\"number1\"] + state[\"number2\"]\n",
    "    return state\n",
    "\n",
    "def sub1 (state: AgentStateCond) -> AgentStateCond:\n",
    "    state[\"result\"] = state[\"number1\"] - state[\"number2\"]\n",
    "    return state\n",
    "\n",
    "def add2 (state: AgentStateCond) -> AgentStateCond:\n",
    "    state[\"result\"] = state[\"result\"] +  state[\"number4\"] + state[\"number3\"]\n",
    "    return state\n",
    "\n",
    "def sub2 (state: AgentStateCond) -> AgentStateCond:\n",
    "    state[\"result\"] = state[\"result\"] + state[\"number3\"] - state[\"number4\"]\n",
    "    return state\n",
    "\n",
    "def next_node1(state: AgentStateCond) -> AgentStateCond:\n",
    "    if (state[\"op1\"] == \"+\") :\n",
    "        return \"add1\"\n",
    "    elif(state[\"op1\"] == \"-\"):\n",
    "        return \"sub1\"\n",
    "\n",
    "def next_node2(state: AgentStateCond) -> AgentStateCond:\n",
    "    if (state[\"op2\"] == \"+\") :\n",
    "        return \"add2\"\n",
    "    elif(state[\"op2\"] == \"-\"):\n",
    "        return \"sub2\"\n",
    "    \n",
    "\n",
    "cond_graph = StateGraph(AgentStateCond)\n",
    "\n",
    "cond_graph.add_node(\"add1_node\",add1)\n",
    "cond_graph.add_node(\"add2_node\",add2)\n",
    "cond_graph.add_node(\"sub1_node\",sub1)\n",
    "cond_graph.add_node(\"sub2_node\",sub2)\n",
    "cond_graph.add_node(\"router1\", lambda state: state)\n",
    "cond_graph.add_node(\"router2\", lambda state: state)\n",
    "\n",
    "cond_graph.add_edge(START,\"router1\")\n",
    "cond_graph.add_conditional_edges(\n",
    "    \"router1\",\n",
    "    next_node1,\n",
    "    {\n",
    "        \"add1\": \"add1_node\",\n",
    "        \"sub1\": \"sub1_node\"\n",
    "    }\n",
    "    \n",
    ")\n",
    "\n",
    "cond_graph.add_edge(\"add1_node\",\"router2\")\n",
    "cond_graph.add_edge(\"sub1_node\",\"router2\")\n",
    "\n",
    "cond_graph.add_conditional_edges(\n",
    "    \"router2\",\n",
    "    next_node2,\n",
    "        {\n",
    "        \"add2\": \"add2_node\",\n",
    "        \"sub2\": \"sub2_node\"\n",
    "    }\n",
    "    \n",
    "    )\n",
    "\n",
    "cond_graph.add_edge(\"add2_node\", END)\n",
    "cond_graph.add_edge(\"sub2_node\", END)\n",
    "\n",
    "app2 = cond_graph.compile()\n",
    "\n",
    "display(Image(app2.get_graph().draw_mermaid_png()))\n",
    "\n"
   ]
  },
  {
   "cell_type": "code",
   "execution_count": 16,
   "id": "b3df2e16",
   "metadata": {},
   "outputs": [
    {
     "name": "stdout",
     "output_type": "stream",
     "text": [
      "2\n"
     ]
    }
   ],
   "source": [
    "answer4 = app2.invoke({\"number1\": 1 , \"number2\":2 ,\"number3\":3 , \"number4\":4 , \"op1\":\"+\", \"op2\":\"-\"})\n",
    "print(answer4[\"result\"])"
   ]
  },
  {
   "cell_type": "markdown",
   "id": "964093e9",
   "metadata": {},
   "source": [
    "Looping Graph"
   ]
  },
  {
   "cell_type": "code",
   "execution_count": 28,
   "id": "ad74aa51",
   "metadata": {},
   "outputs": [
    {
     "data": {
      "text/plain": [
       "<langgraph.graph.state.StateGraph at 0x7c80cf8846e0>"
      ]
     },
     "execution_count": 28,
     "metadata": {},
     "output_type": "execute_result"
    }
   ],
   "source": [
    "import random\n",
    "\n",
    "class LoopState(TypedDict):\n",
    "    lb: int\n",
    "    target_number: int\n",
    "    up: int\n",
    "    guesses: List[int]\n",
    "    attempts: int\n",
    "    player_name:str\n",
    "    hint: str\n",
    "\n",
    "def setup(state: LoopState) -> LoopState:\n",
    "    state[\"target_number\"] = random.randint(state[\"lb\"],state[\"ub\"])\n",
    "    state[\"player_name\"] = f\"Welcome, {state['player_name']}!\"\n",
    "    state[\"guesses\"] = []\n",
    "    state[\"attempts\"] = 0 \n",
    "    state[\"hint\"] = \"Game started! Try to guess the number.\"\n",
    "    return state\n",
    "\n",
    "\n",
    "\n",
    "\n",
    "def guess(state: LoopState) -> LoopState:\n",
    "    \"\"\"Generate a smarter guess based on previous hints\"\"\"\n",
    "    \n",
    "    possible_guesses = [i for i in range(state[\"lb\"], state[\"ub\"] + 1) if i not in state[\"guesses\"]]\n",
    "    if possible_guesses:\n",
    "        guess = random.choice(possible_guesses)\n",
    "    else:\n",
    "        guess = random.randint(state[\"lb\"], state[\"ub\"])\n",
    "    \n",
    "    state[\"guesses\"].append(guess)\n",
    "    state[\"attempts\"] += 1\n",
    "    print(f\"Attempt {state['attempts']}: Guessing {guess} (Current range: {state['lb']}-{state['ub']})\")\n",
    "    return state\n",
    "\n",
    "\n",
    "\n",
    "def next_node(state: LoopState) -> str:\n",
    "    if (state[\"attempts\"] >= 8):\n",
    "        return \"exit\"\n",
    "    if (state[\"guesses\"][-1] == state[\"target_number\"]):\n",
    "        return \"exit\"\n",
    "    elif(state[\"guesses\"][-1] > state[\"target_number\"]):\n",
    "        print(f\"The number is lower than {state[\"ub\"]}\")\n",
    "        state[\"ub\"] = state[\"guesses\"][-1]\n",
    "        return \"reguess\"\n",
    "    else:\n",
    "        print(f\"The number is bigger than {state[\"lb\"]}\")\n",
    "        state[\"lb\"] = state[\"guesses\"][-1]\n",
    "        return \"reguess\"\n",
    "        \n",
    "\n",
    "graph_loop = StateGraph(LoopState)\n",
    "\n",
    "graph_loop.add_node(\"setup_node\", setup)\n",
    "graph_loop.add_node(\"guess_node\", guess)\n",
    "\n",
    "        "
   ]
  }
 ],
 "metadata": {
  "kernelspec": {
   "display_name": "venv",
   "language": "python",
   "name": "python3"
  },
  "language_info": {
   "codemirror_mode": {
    "name": "ipython",
    "version": 3
   },
   "file_extension": ".py",
   "mimetype": "text/x-python",
   "name": "python",
   "nbconvert_exporter": "python",
   "pygments_lexer": "ipython3",
   "version": "3.12.3"
  }
 },
 "nbformat": 4,
 "nbformat_minor": 5
}
